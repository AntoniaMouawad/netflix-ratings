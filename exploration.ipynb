{
 "cells": [
  {
   "cell_type": "code",
   "execution_count": 1,
   "metadata": {},
   "outputs": [],
   "source": [
    "import pandas as pd"
   ]
  },
  {
   "cell_type": "code",
   "execution_count": 2,
   "metadata": {},
   "outputs": [],
   "source": [
    "imdb_titles_path = '/Users/antoniam/Desktop/personal/netflix-ratings/data/imdb/title.basics.tsv'\n",
    "imdb_ratings_path = '/Users/antoniam/Desktop/personal/netflix-ratings/data/imdb/title.ratings.tsv'\n",
    "imdb_principals_path = '/Users/antoniam/Desktop/personal/netflix-ratings/data/imdb/title.principals.tsv'\n",
    "imdb_crew_path = '/Users/antoniam/Desktop/personal/netflix-ratings/data/imdb/title.crew.tsv'\n",
    "imdb_names_path = '/Users/antoniam/Desktop/personal/netflix-ratings/data/imdb/name.basics.tsv'\n",
    "rotten_tomatoes_movies_path = '/Users/antoniam/Desktop/personal/netflix-ratings/data/rotten_tomatoes/rotten_tomatoes_movies.csv'\n",
    "netflix_titles_path = '/Users/antoniam/Desktop/personal/netflix-ratings/data/netflix/netflix_titles.csv'"
   ]
  },
  {
   "cell_type": "markdown",
   "metadata": {},
   "source": [
    "## IMDB dataset"
   ]
  },
  {
   "cell_type": "code",
   "execution_count": 3,
   "metadata": {
    "scrolled": true
   },
   "outputs": [
    {
     "data": {
      "text/html": [
       "<div>\n",
       "<style scoped>\n",
       "    .dataframe tbody tr th:only-of-type {\n",
       "        vertical-align: middle;\n",
       "    }\n",
       "\n",
       "    .dataframe tbody tr th {\n",
       "        vertical-align: top;\n",
       "    }\n",
       "\n",
       "    .dataframe thead th {\n",
       "        text-align: right;\n",
       "    }\n",
       "</style>\n",
       "<table border=\"1\" class=\"dataframe\">\n",
       "  <thead>\n",
       "    <tr style=\"text-align: right;\">\n",
       "      <th></th>\n",
       "      <th>tconst</th>\n",
       "      <th>titleType</th>\n",
       "      <th>primaryTitle</th>\n",
       "      <th>originalTitle</th>\n",
       "      <th>isAdult</th>\n",
       "      <th>startYear</th>\n",
       "      <th>endYear</th>\n",
       "      <th>runtimeMinutes</th>\n",
       "      <th>genres</th>\n",
       "    </tr>\n",
       "  </thead>\n",
       "  <tbody>\n",
       "    <tr>\n",
       "      <th>0</th>\n",
       "      <td>tt0000001</td>\n",
       "      <td>short</td>\n",
       "      <td>Carmencita</td>\n",
       "      <td>Carmencita</td>\n",
       "      <td>0</td>\n",
       "      <td>1894</td>\n",
       "      <td>\\N</td>\n",
       "      <td>1</td>\n",
       "      <td>Documentary,Short</td>\n",
       "    </tr>\n",
       "    <tr>\n",
       "      <th>1</th>\n",
       "      <td>tt0000002</td>\n",
       "      <td>short</td>\n",
       "      <td>Le clown et ses chiens</td>\n",
       "      <td>Le clown et ses chiens</td>\n",
       "      <td>0</td>\n",
       "      <td>1892</td>\n",
       "      <td>\\N</td>\n",
       "      <td>5</td>\n",
       "      <td>Animation,Short</td>\n",
       "    </tr>\n",
       "  </tbody>\n",
       "</table>\n",
       "</div>"
      ],
      "text/plain": [
       "      tconst titleType            primaryTitle           originalTitle  \\\n",
       "0  tt0000001     short              Carmencita              Carmencita   \n",
       "1  tt0000002     short  Le clown et ses chiens  Le clown et ses chiens   \n",
       "\n",
       "   isAdult startYear endYear runtimeMinutes             genres  \n",
       "0        0      1894      \\N              1  Documentary,Short  \n",
       "1        0      1892      \\N              5    Animation,Short  "
      ]
     },
     "execution_count": 3,
     "metadata": {},
     "output_type": "execute_result"
    }
   ],
   "source": [
    "imdb_titles_df = pd.read_csv(imdb_titles_path, '\\t', nrows=100000, low_memory=False)\n",
    "imdb_titles_df.head(2)"
   ]
  },
  {
   "cell_type": "code",
   "execution_count": 4,
   "metadata": {},
   "outputs": [
    {
     "data": {
      "text/html": [
       "<div>\n",
       "<style scoped>\n",
       "    .dataframe tbody tr th:only-of-type {\n",
       "        vertical-align: middle;\n",
       "    }\n",
       "\n",
       "    .dataframe tbody tr th {\n",
       "        vertical-align: top;\n",
       "    }\n",
       "\n",
       "    .dataframe thead th {\n",
       "        text-align: right;\n",
       "    }\n",
       "</style>\n",
       "<table border=\"1\" class=\"dataframe\">\n",
       "  <thead>\n",
       "    <tr style=\"text-align: right;\">\n",
       "      <th></th>\n",
       "      <th>tconst</th>\n",
       "      <th>averageRating</th>\n",
       "      <th>numVotes</th>\n",
       "    </tr>\n",
       "  </thead>\n",
       "  <tbody>\n",
       "    <tr>\n",
       "      <th>0</th>\n",
       "      <td>tt0000001</td>\n",
       "      <td>5.7</td>\n",
       "      <td>1720</td>\n",
       "    </tr>\n",
       "    <tr>\n",
       "      <th>1</th>\n",
       "      <td>tt0000002</td>\n",
       "      <td>6.0</td>\n",
       "      <td>211</td>\n",
       "    </tr>\n",
       "  </tbody>\n",
       "</table>\n",
       "</div>"
      ],
      "text/plain": [
       "      tconst  averageRating  numVotes\n",
       "0  tt0000001            5.7      1720\n",
       "1  tt0000002            6.0       211"
      ]
     },
     "execution_count": 4,
     "metadata": {},
     "output_type": "execute_result"
    }
   ],
   "source": [
    "imdb_ratings_df = pd.read_csv(imdb_ratings_path,'\\t', nrows=100000)\n",
    "imdb_ratings_df.head(2)"
   ]
  },
  {
   "cell_type": "code",
   "execution_count": 5,
   "metadata": {},
   "outputs": [
    {
     "data": {
      "text/html": [
       "<div>\n",
       "<style scoped>\n",
       "    .dataframe tbody tr th:only-of-type {\n",
       "        vertical-align: middle;\n",
       "    }\n",
       "\n",
       "    .dataframe tbody tr th {\n",
       "        vertical-align: top;\n",
       "    }\n",
       "\n",
       "    .dataframe thead th {\n",
       "        text-align: right;\n",
       "    }\n",
       "</style>\n",
       "<table border=\"1\" class=\"dataframe\">\n",
       "  <thead>\n",
       "    <tr style=\"text-align: right;\">\n",
       "      <th></th>\n",
       "      <th>tconst</th>\n",
       "      <th>ordering</th>\n",
       "      <th>nconst</th>\n",
       "      <th>category</th>\n",
       "      <th>job</th>\n",
       "      <th>characters</th>\n",
       "    </tr>\n",
       "  </thead>\n",
       "  <tbody>\n",
       "    <tr>\n",
       "      <th>0</th>\n",
       "      <td>tt0000001</td>\n",
       "      <td>1</td>\n",
       "      <td>nm1588970</td>\n",
       "      <td>self</td>\n",
       "      <td>\\N</td>\n",
       "      <td>[\"Self\"]</td>\n",
       "    </tr>\n",
       "    <tr>\n",
       "      <th>1</th>\n",
       "      <td>tt0000001</td>\n",
       "      <td>2</td>\n",
       "      <td>nm0005690</td>\n",
       "      <td>director</td>\n",
       "      <td>\\N</td>\n",
       "      <td>\\N</td>\n",
       "    </tr>\n",
       "  </tbody>\n",
       "</table>\n",
       "</div>"
      ],
      "text/plain": [
       "      tconst  ordering     nconst  category job characters\n",
       "0  tt0000001         1  nm1588970      self  \\N   [\"Self\"]\n",
       "1  tt0000001         2  nm0005690  director  \\N         \\N"
      ]
     },
     "execution_count": 5,
     "metadata": {},
     "output_type": "execute_result"
    }
   ],
   "source": [
    "imdb_principals_df = pd.read_csv(imdb_principals_path,'\\t', nrows=100000)\n",
    "imdb_principals_df.head(2)"
   ]
  },
  {
   "cell_type": "code",
   "execution_count": 6,
   "metadata": {},
   "outputs": [
    {
     "data": {
      "text/html": [
       "<div>\n",
       "<style scoped>\n",
       "    .dataframe tbody tr th:only-of-type {\n",
       "        vertical-align: middle;\n",
       "    }\n",
       "\n",
       "    .dataframe tbody tr th {\n",
       "        vertical-align: top;\n",
       "    }\n",
       "\n",
       "    .dataframe thead th {\n",
       "        text-align: right;\n",
       "    }\n",
       "</style>\n",
       "<table border=\"1\" class=\"dataframe\">\n",
       "  <thead>\n",
       "    <tr style=\"text-align: right;\">\n",
       "      <th></th>\n",
       "      <th>nconst</th>\n",
       "      <th>primaryName</th>\n",
       "      <th>birthYear</th>\n",
       "      <th>deathYear</th>\n",
       "      <th>primaryProfession</th>\n",
       "      <th>knownForTitles</th>\n",
       "    </tr>\n",
       "  </thead>\n",
       "  <tbody>\n",
       "    <tr>\n",
       "      <th>0</th>\n",
       "      <td>nm0000001</td>\n",
       "      <td>Fred Astaire</td>\n",
       "      <td>1899</td>\n",
       "      <td>1987</td>\n",
       "      <td>soundtrack,actor,miscellaneous</td>\n",
       "      <td>tt0053137,tt0050419,tt0031983,tt0072308</td>\n",
       "    </tr>\n",
       "    <tr>\n",
       "      <th>1</th>\n",
       "      <td>nm0000002</td>\n",
       "      <td>Lauren Bacall</td>\n",
       "      <td>1924</td>\n",
       "      <td>2014</td>\n",
       "      <td>actress,soundtrack</td>\n",
       "      <td>tt0037382,tt0117057,tt0071877,tt0038355</td>\n",
       "    </tr>\n",
       "  </tbody>\n",
       "</table>\n",
       "</div>"
      ],
      "text/plain": [
       "      nconst    primaryName birthYear deathYear  \\\n",
       "0  nm0000001   Fred Astaire      1899      1987   \n",
       "1  nm0000002  Lauren Bacall      1924      2014   \n",
       "\n",
       "                primaryProfession                           knownForTitles  \n",
       "0  soundtrack,actor,miscellaneous  tt0053137,tt0050419,tt0031983,tt0072308  \n",
       "1              actress,soundtrack  tt0037382,tt0117057,tt0071877,tt0038355  "
      ]
     },
     "execution_count": 6,
     "metadata": {},
     "output_type": "execute_result"
    }
   ],
   "source": [
    "imdb_names_df = pd.read_csv(imdb_names_path,'\\t', nrows=100000)\n",
    "imdb_names_df.head(2)"
   ]
  },
  {
   "cell_type": "markdown",
   "metadata": {},
   "source": [
    "## Rotten Tomatoes Dataset"
   ]
  },
  {
   "cell_type": "code",
   "execution_count": 7,
   "metadata": {},
   "outputs": [
    {
     "data": {
      "text/html": [
       "<div>\n",
       "<style scoped>\n",
       "    .dataframe tbody tr th:only-of-type {\n",
       "        vertical-align: middle;\n",
       "    }\n",
       "\n",
       "    .dataframe tbody tr th {\n",
       "        vertical-align: top;\n",
       "    }\n",
       "\n",
       "    .dataframe thead th {\n",
       "        text-align: right;\n",
       "    }\n",
       "</style>\n",
       "<table border=\"1\" class=\"dataframe\">\n",
       "  <thead>\n",
       "    <tr style=\"text-align: right;\">\n",
       "      <th></th>\n",
       "      <th>rotten_tomatoes_link</th>\n",
       "      <th>movie_title</th>\n",
       "      <th>movie_info</th>\n",
       "      <th>critics_consensus</th>\n",
       "      <th>content_rating</th>\n",
       "      <th>genres</th>\n",
       "      <th>directors</th>\n",
       "      <th>authors</th>\n",
       "      <th>actors</th>\n",
       "      <th>original_release_date</th>\n",
       "      <th>...</th>\n",
       "      <th>production_company</th>\n",
       "      <th>tomatometer_status</th>\n",
       "      <th>tomatometer_rating</th>\n",
       "      <th>tomatometer_count</th>\n",
       "      <th>audience_status</th>\n",
       "      <th>audience_rating</th>\n",
       "      <th>audience_count</th>\n",
       "      <th>tomatometer_top_critics_count</th>\n",
       "      <th>tomatometer_fresh_critics_count</th>\n",
       "      <th>tomatometer_rotten_critics_count</th>\n",
       "    </tr>\n",
       "  </thead>\n",
       "  <tbody>\n",
       "    <tr>\n",
       "      <th>0</th>\n",
       "      <td>m/0814255</td>\n",
       "      <td>Percy Jackson &amp; the Olympians: The Lightning T...</td>\n",
       "      <td>Always trouble-prone, the life of teenager Per...</td>\n",
       "      <td>Though it may seem like just another Harry Pot...</td>\n",
       "      <td>PG</td>\n",
       "      <td>Action &amp; Adventure, Comedy, Drama, Science Fic...</td>\n",
       "      <td>Chris Columbus</td>\n",
       "      <td>Craig Titley, Chris Columbus, Rick Riordan</td>\n",
       "      <td>Logan Lerman, Brandon T. Jackson, Alexandra Da...</td>\n",
       "      <td>2010-02-12</td>\n",
       "      <td>...</td>\n",
       "      <td>20th Century Fox</td>\n",
       "      <td>Rotten</td>\n",
       "      <td>49.0</td>\n",
       "      <td>149.0</td>\n",
       "      <td>Spilled</td>\n",
       "      <td>53.0</td>\n",
       "      <td>254421.0</td>\n",
       "      <td>43</td>\n",
       "      <td>73</td>\n",
       "      <td>76</td>\n",
       "    </tr>\n",
       "    <tr>\n",
       "      <th>1</th>\n",
       "      <td>m/0878835</td>\n",
       "      <td>Please Give</td>\n",
       "      <td>Kate (Catherine Keener) and her husband Alex (...</td>\n",
       "      <td>Nicole Holofcener's newest might seem slight i...</td>\n",
       "      <td>R</td>\n",
       "      <td>Comedy</td>\n",
       "      <td>Nicole Holofcener</td>\n",
       "      <td>Nicole Holofcener</td>\n",
       "      <td>Catherine Keener, Amanda Peet, Oliver Platt, R...</td>\n",
       "      <td>2010-04-30</td>\n",
       "      <td>...</td>\n",
       "      <td>Sony Pictures Classics</td>\n",
       "      <td>Certified-Fresh</td>\n",
       "      <td>87.0</td>\n",
       "      <td>142.0</td>\n",
       "      <td>Upright</td>\n",
       "      <td>64.0</td>\n",
       "      <td>11574.0</td>\n",
       "      <td>44</td>\n",
       "      <td>123</td>\n",
       "      <td>19</td>\n",
       "    </tr>\n",
       "  </tbody>\n",
       "</table>\n",
       "<p>2 rows × 22 columns</p>\n",
       "</div>"
      ],
      "text/plain": [
       "  rotten_tomatoes_link                                        movie_title  \\\n",
       "0            m/0814255  Percy Jackson & the Olympians: The Lightning T...   \n",
       "1            m/0878835                                        Please Give   \n",
       "\n",
       "                                          movie_info  \\\n",
       "0  Always trouble-prone, the life of teenager Per...   \n",
       "1  Kate (Catherine Keener) and her husband Alex (...   \n",
       "\n",
       "                                   critics_consensus content_rating  \\\n",
       "0  Though it may seem like just another Harry Pot...             PG   \n",
       "1  Nicole Holofcener's newest might seem slight i...              R   \n",
       "\n",
       "                                              genres          directors  \\\n",
       "0  Action & Adventure, Comedy, Drama, Science Fic...     Chris Columbus   \n",
       "1                                             Comedy  Nicole Holofcener   \n",
       "\n",
       "                                      authors  \\\n",
       "0  Craig Titley, Chris Columbus, Rick Riordan   \n",
       "1                           Nicole Holofcener   \n",
       "\n",
       "                                              actors original_release_date  \\\n",
       "0  Logan Lerman, Brandon T. Jackson, Alexandra Da...            2010-02-12   \n",
       "1  Catherine Keener, Amanda Peet, Oliver Platt, R...            2010-04-30   \n",
       "\n",
       "   ...      production_company  tomatometer_status tomatometer_rating  \\\n",
       "0  ...        20th Century Fox              Rotten               49.0   \n",
       "1  ...  Sony Pictures Classics     Certified-Fresh               87.0   \n",
       "\n",
       "  tomatometer_count  audience_status  audience_rating audience_count  \\\n",
       "0             149.0          Spilled             53.0       254421.0   \n",
       "1             142.0          Upright             64.0        11574.0   \n",
       "\n",
       "   tomatometer_top_critics_count  tomatometer_fresh_critics_count  \\\n",
       "0                             43                               73   \n",
       "1                             44                              123   \n",
       "\n",
       "   tomatometer_rotten_critics_count  \n",
       "0                                76  \n",
       "1                                19  \n",
       "\n",
       "[2 rows x 22 columns]"
      ]
     },
     "execution_count": 7,
     "metadata": {},
     "output_type": "execute_result"
    }
   ],
   "source": [
    "rt_df = pd.read_csv(rotten_tomatoes_movies_path)\n",
    "rt_df.head(2)"
   ]
  },
  {
   "cell_type": "markdown",
   "metadata": {},
   "source": [
    "## Netflix Dataset"
   ]
  },
  {
   "cell_type": "code",
   "execution_count": 8,
   "metadata": {},
   "outputs": [
    {
     "data": {
      "text/html": [
       "<div>\n",
       "<style scoped>\n",
       "    .dataframe tbody tr th:only-of-type {\n",
       "        vertical-align: middle;\n",
       "    }\n",
       "\n",
       "    .dataframe tbody tr th {\n",
       "        vertical-align: top;\n",
       "    }\n",
       "\n",
       "    .dataframe thead th {\n",
       "        text-align: right;\n",
       "    }\n",
       "</style>\n",
       "<table border=\"1\" class=\"dataframe\">\n",
       "  <thead>\n",
       "    <tr style=\"text-align: right;\">\n",
       "      <th></th>\n",
       "      <th>show_id</th>\n",
       "      <th>type</th>\n",
       "      <th>title</th>\n",
       "      <th>director</th>\n",
       "      <th>cast</th>\n",
       "      <th>country</th>\n",
       "      <th>date_added</th>\n",
       "      <th>release_year</th>\n",
       "      <th>rating</th>\n",
       "      <th>duration</th>\n",
       "      <th>listed_in</th>\n",
       "      <th>description</th>\n",
       "    </tr>\n",
       "  </thead>\n",
       "  <tbody>\n",
       "    <tr>\n",
       "      <th>0</th>\n",
       "      <td>s1</td>\n",
       "      <td>TV Show</td>\n",
       "      <td>3%</td>\n",
       "      <td>NaN</td>\n",
       "      <td>João Miguel, Bianca Comparato, Michel Gomes, R...</td>\n",
       "      <td>Brazil</td>\n",
       "      <td>August 14, 2020</td>\n",
       "      <td>2020</td>\n",
       "      <td>TV-MA</td>\n",
       "      <td>4 Seasons</td>\n",
       "      <td>International TV Shows, TV Dramas, TV Sci-Fi &amp;...</td>\n",
       "      <td>In a future where the elite inhabit an island ...</td>\n",
       "    </tr>\n",
       "    <tr>\n",
       "      <th>1</th>\n",
       "      <td>s2</td>\n",
       "      <td>Movie</td>\n",
       "      <td>7:19</td>\n",
       "      <td>Jorge Michel Grau</td>\n",
       "      <td>Demián Bichir, Héctor Bonilla, Oscar Serrano, ...</td>\n",
       "      <td>Mexico</td>\n",
       "      <td>December 23, 2016</td>\n",
       "      <td>2016</td>\n",
       "      <td>TV-MA</td>\n",
       "      <td>93 min</td>\n",
       "      <td>Dramas, International Movies</td>\n",
       "      <td>After a devastating earthquake hits Mexico Cit...</td>\n",
       "    </tr>\n",
       "  </tbody>\n",
       "</table>\n",
       "</div>"
      ],
      "text/plain": [
       "  show_id     type title           director  \\\n",
       "0      s1  TV Show    3%                NaN   \n",
       "1      s2    Movie  7:19  Jorge Michel Grau   \n",
       "\n",
       "                                                cast country  \\\n",
       "0  João Miguel, Bianca Comparato, Michel Gomes, R...  Brazil   \n",
       "1  Demián Bichir, Héctor Bonilla, Oscar Serrano, ...  Mexico   \n",
       "\n",
       "          date_added  release_year rating   duration  \\\n",
       "0    August 14, 2020          2020  TV-MA  4 Seasons   \n",
       "1  December 23, 2016          2016  TV-MA     93 min   \n",
       "\n",
       "                                           listed_in  \\\n",
       "0  International TV Shows, TV Dramas, TV Sci-Fi &...   \n",
       "1                       Dramas, International Movies   \n",
       "\n",
       "                                         description  \n",
       "0  In a future where the elite inhabit an island ...  \n",
       "1  After a devastating earthquake hits Mexico Cit...  "
      ]
     },
     "execution_count": 8,
     "metadata": {},
     "output_type": "execute_result"
    }
   ],
   "source": [
    "netflix_df = pd.read_csv(netflix_titles_path)\n",
    "netflix_df.head(2)"
   ]
  },
  {
   "cell_type": "markdown",
   "metadata": {},
   "source": [
    "## Tables Create Statements"
   ]
  },
  {
   "cell_type": "code",
   "execution_count": 9,
   "metadata": {},
   "outputs": [
    {
     "name": "stderr",
     "output_type": "stream",
     "text": [
      "/Library/Frameworks/Python.framework/Versions/3.6/lib/python3.6/site-packages/psycopg2/__init__.py:144: UserWarning: The psycopg2 wheel package will be renamed from release 2.8; in order to keep installing from binary please use \"pip install psycopg2-binary\" instead. For details see: <http://initd.org/psycopg/docs/install.html#binary-install-from-pypi>.\n",
      "  \"\"\")\n"
     ]
    }
   ],
   "source": [
    "import psycopg2"
   ]
  },
  {
   "cell_type": "code",
   "execution_count": 10,
   "metadata": {},
   "outputs": [],
   "source": [
    "def create_database():\n",
    "\n",
    "    # connect to default database\n",
    "    conn = psycopg2.connect(\"host=127.0.0.1 dbname=postgres user=antoniam\")\n",
    "    conn.set_session(autocommit=True)\n",
    "    cur = conn.cursor()\n",
    "    \n",
    "    # create sparkify database with UTF8 encoding\n",
    "    cur.execute(\"\"\"\n",
    "    SELECT pg_terminate_backend(pg_stat_activity.pid)\n",
    "    FROM pg_stat_activity\n",
    "    WHERE pg_stat_activity.datname = 'movies_db';\"\"\")\n",
    "    cur.execute(\"DROP DATABASE IF EXISTS movies_db\")\n",
    "    cur.execute(\"CREATE DATABASE movies_db WITH ENCODING 'utf8' TEMPLATE template0\")\n",
    "\n",
    "    # close connection to default database\n",
    "    conn.close()    \n",
    "    \n",
    "    # connect to sparkify database\n",
    "    conn = psycopg2.connect(\"host=127.0.0.1 dbname=movies_db\")\n",
    "    conn.set_session(autocommit=True)\n",
    "    cur = conn.cursor()\n",
    "    \n",
    "    return cur, conn"
   ]
  },
  {
   "cell_type": "code",
   "execution_count": 11,
   "metadata": {},
   "outputs": [],
   "source": [
    "cur, conn = create_database()"
   ]
  },
  {
   "cell_type": "code",
   "execution_count": 12,
   "metadata": {},
   "outputs": [],
   "source": [
    "create_staging_imdb_titles =\"\"\"CREATE TABLE IF NOT EXISTS staging_imdb_titles(\n",
    "tconst VARCHAR NOT NULL PRIMARY KEY,\n",
    "titleType VARCHAR,\n",
    "primaryTitle VARCHAR,\n",
    "originalTitle VARCHAR,\n",
    "isAdult VARCHAR,\n",
    "startYear VARCHAR,\n",
    "endYear VARCHAR,\n",
    "runtimeMinutes VARCHAR,\n",
    "genres VARCHAR);\n",
    "\"\"\"\n",
    "\n",
    "create_staging_imdb_ratings =\"\"\"CREATE TABLE IF NOT EXISTS staging_imdb_ratings(\n",
    "tconst VARCHAR NOT NULL,\n",
    "averageRating FLOAT,\n",
    "numVotes INT);\n",
    "\"\"\"\n",
    "\n",
    "create_staging_imdb_principals = \"\"\"CREATE TABLE IF NOT EXISTS staging_imdb_principals(\n",
    "tconst VARCHAR NOT NULL,\n",
    "ordering INTEGER NOT NULL,\n",
    "nconst VARCHAR NOT NULL, \n",
    "category VARCHAR NOT NULL,\n",
    "job VARCHAR NOT NULL,\n",
    "characters VARCHAR NOT NULL);\n",
    "\"\"\"\n",
    "\n",
    "create_staging_imdb_crew = \"\"\"CREATE TABLE IF NOT EXISTS staging_imdb_crew(\n",
    "tconst VARCHAR NOT NULL,\n",
    "directors VARCHAR, \n",
    "writers VARCHAR);\n",
    "\"\"\"\n",
    "\n",
    "create_staging_imdb_names = \"\"\"CREATE TABLE IF NOT EXISTS staging_imdb_names(\n",
    "nconst VARCHAR NOT NULL PRIMARY KEY,\n",
    "primaryName VARCHAR NOT NULL,\n",
    "birthYear VARCHAR,\n",
    "deathYear VARCHAR,\n",
    "primaryProfession VARCHAR,\n",
    "knownForTitles VARCHAR);\n",
    "\"\"\"\n",
    "\n",
    "create_staging_rotten_tomatoes_titles = \"\"\"CREATE TABLE IF NOT EXISTS staging_rotten_tomatoes_titles(\n",
    "rotten_tomatoes_link VARCHAR, \n",
    "movie_title VARCHAR,\n",
    "movie_info VARCHAR,\n",
    "critics_consensus VARCHAR, \n",
    "content_rating VARCHAR, \n",
    "genres VARCHAR, \n",
    "directors VARCHAR, \n",
    "authors VARCHAR,\n",
    "actors VARCHAR, \n",
    "original_release_date DATE, \n",
    "streaming_release_date DATE, \n",
    "runtime FLOAT,\n",
    "production_company VARCHAR, \n",
    "tomatometer_status VARCHAR, \n",
    "tomatometer_rating FLOAT,\n",
    "tomatometer_count INT, \n",
    "audience_status VARCHAR, \n",
    "audience_rating FLOAT,\n",
    "audience_count INT, \n",
    "tomatometer_top_critics_count INT,\n",
    "tomatometer_fresh_critics_count INT, \n",
    "tomatometer_rotten_critics_count INT);\n",
    "\"\"\"\n",
    "create_staging_netflix_titles = \"\"\"CREATE TABLE IF NOT EXISTS staging_netflix_titles(\n",
    "show_id VARCHAR NOT NULL PRIMARY KEY,\n",
    "\"type\" VARCHAR,\n",
    "title VARCHAR,\n",
    "director VARCHAR,\n",
    "\"cast\" VARCHAR,\n",
    "country VARCHAR,\n",
    "date_added DATE,\n",
    "release_year INT4,\n",
    "rating VARCHAR,\n",
    "duration VARCHAR,\n",
    "listed_in VARCHAR,\n",
    "description VARCHAR);\n",
    "\"\"\""
   ]
  },
  {
   "cell_type": "code",
   "execution_count": 13,
   "metadata": {},
   "outputs": [],
   "source": [
    "create_titles = \\\n",
    "\"\"\"CREATE TABLE IF NOT EXISTS titles(\n",
    "  id SERIAL PRIMARY KEY,\n",
    "  netflix_id VARCHAR NOT NULL,\n",
    "  imdb_id VARCHAR,\n",
    "  rt_id VARCHAR,\n",
    "  type VARCHAR,\n",
    "  name VARCHAR,\n",
    "  normalized_name VARCHAR,\n",
    "  netflix_description VARCHAR,\n",
    "  release_year INT4,\n",
    "  runtime_minutes INT,\n",
    "  country VARCHAR,\n",
    "  rated VARCHAR,\n",
    "  imdb_avg_score FLOAT,\n",
    "  imdb_n_ratings INT,\n",
    "  rt_critics_score FLOAT,\n",
    "  rt_n_critics INT,\n",
    "  rt_audience_score FLOAT,\n",
    "  rt_n_audience INT,\n",
    "  rt_critics_consensus VARCHAR);\n",
    "\"\"\"\n",
    "\n",
    "create_roles = \\\n",
    "\"\"\"CREATE TABLE IF NOT EXISTS roles(\n",
    "id SERIAL PRIMARY KEY,\n",
    "title_id VARCHAR,\n",
    "person_id VARCHAR,\n",
    "role_name VARCHAR NOT NULL\n",
    ");\n",
    "\"\"\"\n",
    "\n",
    "create_persons = \\\n",
    "\"\"\"CREATE TABLE IF NOT EXISTS persons(\n",
    "id VARCHAR NOT NULL PRIMARY KEY,\n",
    "full_name VARCHAR NOT NULL,\n",
    "birth_year INT4,\n",
    "death_year INT4\n",
    ");\n",
    "\"\"\"\n",
    "\n",
    "create_genres = \\\n",
    "\"\"\"CREATE TABLE IF NOT EXISTS genres(\n",
    "id SERIAL PRIMARY KEY,\n",
    "title_id VARCHAR NOT NULL,\n",
    "genre_name VARCHAR NOT NULL);\"\"\"\n"
   ]
  },
  {
   "cell_type": "code",
   "execution_count": 14,
   "metadata": {},
   "outputs": [],
   "source": [
    "staging_tables_sql = [create_staging_imdb_titles, create_staging_imdb_ratings, create_staging_imdb_principals, create_staging_imdb_names, \n",
    " create_staging_rotten_tomatoes_titles, create_staging_netflix_titles, create_staging_imdb_crew]\n",
    "\n",
    "final_tables = [create_titles, create_roles, create_persons, create_genres]"
   ]
  },
  {
   "cell_type": "code",
   "execution_count": 15,
   "metadata": {},
   "outputs": [],
   "source": [
    "for s in staging_tables_sql + final_tables:\n",
    "    cur.execute(s)"
   ]
  },
  {
   "cell_type": "code",
   "execution_count": 16,
   "metadata": {},
   "outputs": [
    {
     "name": "stdout",
     "output_type": "stream",
     "text": [
      "COPY staging_imdb_titles FROM '/Users/antoniam/Desktop/personal/netflix-ratings/data/imdb/title.basics.tsv' delimiter '\t' CSV HEADER\n",
      "COPY staging_imdb_ratings FROM '/Users/antoniam/Desktop/personal/netflix-ratings/data/imdb/title.ratings.tsv' delimiter '\t' CSV HEADER\n",
      "COPY staging_imdb_principals FROM '/Users/antoniam/Desktop/personal/netflix-ratings/data/imdb/title.principals.tsv' delimiter '\t' CSV HEADER\n",
      "COPY staging_imdb_names FROM '/Users/antoniam/Desktop/personal/netflix-ratings/data/imdb/name.basics.tsv' delimiter '\t' CSV HEADER\n",
      "COPY staging_imdb_crew FROM '/Users/antoniam/Desktop/personal/netflix-ratings/data/imdb/title.crew.tsv' delimiter '\t' CSV HEADER\n",
      "COPY staging_rotten_tomatoes_titles FROM '/Users/antoniam/Desktop/personal/netflix-ratings/data/rotten_tomatoes/rotten_tomatoes_movies.csv' delimiter ',' CSV HEADER\n",
      "COPY staging_netflix_titles FROM '/Users/antoniam/Desktop/personal/netflix-ratings/data/netflix/netflix_titles.csv' delimiter ',' CSV HEADER\n"
     ]
    }
   ],
   "source": [
    "copy_staging_titles = f\"COPY staging_imdb_titles FROM '{imdb_titles_path}' delimiter '\\t' CSV HEADER\"\n",
    "copy_staging_ratings = f\"COPY staging_imdb_ratings FROM '{imdb_ratings_path}' delimiter '\\t' CSV HEADER\"\n",
    "copy_staging_principals = f\"COPY staging_imdb_principals FROM '{imdb_principals_path}' delimiter '\\t' CSV HEADER\"\n",
    "copy_staging_crew = f\"COPY staging_imdb_crew FROM '{imdb_crew_path}' delimiter '\\t' CSV HEADER\"\n",
    "copy_staging_names = f\"COPY staging_imdb_names FROM '{imdb_names_path}' delimiter '\\t' CSV HEADER\"\n",
    "copy_staging_rt = f\"COPY staging_rotten_tomatoes_titles FROM '{rotten_tomatoes_movies_path}' delimiter ',' CSV HEADER\"\n",
    "copy_staging_netflix = f\"COPY staging_netflix_titles FROM '{netflix_titles_path}' delimiter ',' CSV HEADER\"\n",
    "\n",
    "\n",
    "copy_staging = [copy_staging_titles, copy_staging_ratings, copy_staging_principals, copy_staging_names, copy_staging_crew, copy_staging_rt, copy_staging_netflix]\n",
    "\n",
    "for s in copy_staging: \n",
    "    print(s)\n",
    "    cur.execute(s)"
   ]
  },
  {
   "cell_type": "markdown",
   "metadata": {},
   "source": [
    "## Final tables"
   ]
  },
  {
   "cell_type": "markdown",
   "metadata": {},
   "source": [
    "### Genres table"
   ]
  },
  {
   "cell_type": "code",
   "execution_count": 17,
   "metadata": {},
   "outputs": [
    {
     "name": "stdout",
     "output_type": "stream",
     "text": [
      "CPU times: user 888 µs, sys: 970 µs, total: 1.86 ms\n",
      "Wall time: 28.1 s\n"
     ]
    }
   ],
   "source": [
    "%%time\n",
    "st = \\\n",
    "\"\"\"INSERT INTO genres(title_id, genre_name)\n",
    "   SELECT tconst, unnest(string_to_array(genres, ',')) as genre\n",
    "   FROM staging_imdb_titles \n",
    "   WHERE genres!='\\\\N' \n",
    "   AND titleType in ('tvSpecial', 'tvSeries', 'tvShort', 'movie', 'tvMovie', 'short', 'tvMiniSeries')\n",
    "   \"\"\"\n",
    "cur.execute(st)"
   ]
  },
  {
   "cell_type": "markdown",
   "metadata": {},
   "source": [
    "### Persons table"
   ]
  },
  {
   "cell_type": "code",
   "execution_count": 18,
   "metadata": {},
   "outputs": [
    {
     "name": "stdout",
     "output_type": "stream",
     "text": [
      "CPU times: user 2.83 ms, sys: 1.57 ms, total: 4.39 ms\n",
      "Wall time: 2min 47s\n"
     ]
    }
   ],
   "source": [
    "%%time\n",
    "st = \\\n",
    "\"\"\"INSERT INTO persons(id, full_name, birth_year, death_year)\n",
    "SELECT nconst, primaryName, \n",
    "NULLIF(regexp_replace(birthYear, '\\D','','g'), '')::numeric AS birth_year,\n",
    "NULLIF(regexp_replace(deathYear, '\\D','','g'), '')::numeric AS death_year\n",
    "from staging_imdb_names\n",
    "\"\"\"\n",
    "cur.execute(st)"
   ]
  },
  {
   "cell_type": "markdown",
   "metadata": {},
   "source": [
    "### Roles table"
   ]
  },
  {
   "cell_type": "code",
   "execution_count": 19,
   "metadata": {},
   "outputs": [
    {
     "name": "stdout",
     "output_type": "stream",
     "text": [
      "CPU times: user 4.99 ms, sys: 3.2 ms, total: 8.2 ms\n",
      "Wall time: 4min 45s\n"
     ]
    }
   ],
   "source": [
    "%%time\n",
    "st = \\\n",
    "\"\"\"INSERT INTO roles(title_id, person_id, role_name)\n",
    "SELECT titles.tconst, nconst, category\n",
    "FROM staging_imdb_titles titles\n",
    "JOIN staging_imdb_principals principals\n",
    "ON titles.tconst = principals.tconst\n",
    "WHERE principals.category in ('director', 'writer', 'actor', 'actress') \n",
    "AND titles.titleType in ('tvSpecial', 'tvSeries', 'tvShort', 'movie', 'tvMovie', 'short', 'tvMiniSeries')\n",
    "\n",
    "UNION\n",
    "SELECT titles.tconst, unnest(string_to_array(directors, ',')) as nconst, 'director'\n",
    "FROM staging_imdb_titles titles\n",
    "JOIN staging_imdb_crew crew\n",
    "ON titles.tconst = crew.tconst\n",
    "WHERE directors!='\\\\N'\n",
    "AND titles.titleType in ('tvSpecial', 'tvSeries', 'tvShort', 'movie', 'tvMovie', 'short', 'tvMiniSeries')\n",
    "\n",
    "UNION\n",
    "SELECT titles.tconst, unnest(string_to_array(writers, ',')) as nconst, 'writer'\n",
    "FROM staging_imdb_titles titles\n",
    "JOIN staging_imdb_crew crew\n",
    "ON titles.tconst = crew.tconst\n",
    "WHERE writers!='\\\\N'\n",
    "AND titles.titleType in ('tvSpecial', 'tvSeries', 'tvShort', 'movie', 'tvMovie', 'short', 'tvMiniSeries')\n",
    "\"\"\"\n",
    "cur.execute(st)"
   ]
  },
  {
   "cell_type": "markdown",
   "metadata": {},
   "source": [
    "### Titles table"
   ]
  },
  {
   "cell_type": "code",
   "execution_count": 20,
   "metadata": {},
   "outputs": [],
   "source": [
    "cur.execute('DROP TABLE titles')\n",
    "cur.execute(create_titles)"
   ]
  },
  {
   "cell_type": "code",
   "execution_count": 21,
   "metadata": {},
   "outputs": [
    {
     "name": "stdout",
     "output_type": "stream",
     "text": [
      "CPU times: user 1.15 ms, sys: 1.31 ms, total: 2.46 ms\n",
      "Wall time: 47.8 s\n"
     ]
    }
   ],
   "source": [
    "%%time\n",
    "st = \"\"\"\n",
    "INSERT INTO titles(netflix_id, imdb_id, rt_id, type, name, normalized_name,\n",
    "  netflix_description, release_year, runtime_minutes, country, rated,\n",
    "  imdb_avg_score, imdb_n_ratings,\n",
    "  rt_critics_score, rt_n_critics,\n",
    "  rt_audience_score, rt_n_audience, rt_critics_consensus)\n",
    "  \n",
    "SELECT staging_netflix_titles.show_id, with_imdb.tconst, with_rt.rotten_tomatoes_link,\n",
    "staging_netflix_titles.type, staging_netflix_titles.title, lower(staging_netflix_titles.title),\n",
    "staging_netflix_titles.description, staging_netflix_titles.release_year,\n",
    "CAST(replace(with_imdb.runtimeMinutes, '\\\\N', '-1') as INT),\n",
    "staging_netflix_titles.country,  staging_netflix_titles.rating,  \n",
    "with_imdb.averageRating, with_imdb.numVotes, with_rt.tomatometer_rating, with_rt.tomatometer_count, with_rt.audience_rating, \n",
    "with_rt.audience_count, with_rt.critics_consensus\n",
    "\n",
    "FROM staging_netflix_titles \n",
    "LEFT JOIN (\n",
    "        SELECT distinct netflix.show_id, netflix.type, netflix.title, netflix.country, netflix.release_year, \n",
    "                netflix.description, imdb.tconst, runtimeMinutes, averageRating, numVotes\n",
    "                FROM(\n",
    "                    SELECT show_id, type, title, country, release_year, description,\n",
    "                    unnest(string_to_array(staging_netflix_titles.director, ',')) as director,\n",
    "                    unnest(string_to_array(staging_netflix_titles.cast, ',')) as actor\n",
    "                    FROM staging_netflix_titles) as netflix\n",
    "                JOIN(\n",
    "                    SELECT *\n",
    "                    FROM staging_imdb_titles \n",
    "                    JOIN roles\n",
    "                    ON roles.title_id = staging_imdb_titles.tconst\n",
    "                    JOIN persons \n",
    "                    ON persons.id = roles.person_id\n",
    "                    WHERE titleType in ('tvSpecial', 'tvSeries', 'tvShort', 'movie', 'tvMovie', 'short', 'tvMiniSeries')) as imdb\n",
    "                JOIN staging_imdb_ratings \n",
    "                    ON staging_imdb_ratings.tconst = imdb.tconst\n",
    "            ON lower(netflix.title) = lower(imdb.OriginalTitle)\n",
    "            AND netflix.release_year BETWEEN CAST(REPLACE(imdb.startYear,'\\\\N', '0') as INT) \n",
    "            AND CAST(REPLACE(imdb.endYear,'\\\\N', '2050') as INT) \n",
    "            AND (netflix.actor = imdb.full_name or netflix.director = imdb.full_name)\n",
    "        ) as with_imdb\n",
    "ON with_imdb.show_id = staging_netflix_titles.show_id\n",
    "\n",
    "LEFT JOIN (\n",
    "        SELECT distinct netflix.show_id, netflix.type, netflix.title, netflix.country, netflix.release_year, \n",
    "                netflix.description, rt.tomatometer_rating, rt.tomatometer_count, rt.audience_rating, rt.audience_count,\n",
    "                rt.critics_consensus, rt.rotten_tomatoes_link\n",
    "                FROM(\n",
    "                    SELECT show_id, type, title, country, release_year, description,\n",
    "                    unnest(string_to_array(staging_netflix_titles.director, ',')) as director,\n",
    "                    unnest(string_to_array(staging_netflix_titles.cast, ',')) as actor\n",
    "                    FROM staging_netflix_titles) as netflix\n",
    "                JOIN(\n",
    "                    SELECT rt.tomatometer_rating, rt.tomatometer_count, rt.audience_rating, rt.audience_count,\n",
    "                    rt.critics_consensus, rt.movie_title, rt.original_release_date, rotten_tomatoes_link,\n",
    "                    unnest(string_to_array(rt.directors, ',')) as director,\n",
    "                    unnest(string_to_array(rt.actors, ',')) as actor\n",
    "                    FROM staging_rotten_tomatoes_titles rt) rt\n",
    "                ON lower(netflix.title) = lower(rt.movie_title)\n",
    "                AND netflix.release_year = extract(year from rt.original_release_date)\n",
    "                AND (netflix.director = rt.director or netflix.actor = rt.actor) \n",
    "                ) as with_rt\n",
    "ON with_rt.show_id = staging_netflix_titles.show_id\n",
    "\"\"\"\n",
    "cur.execute(st)"
   ]
  },
  {
   "cell_type": "markdown",
   "metadata": {},
   "source": [
    "## Get horror movies released after 2016 with rotten tomatoes critics score higher than 70, ordered by imdb score"
   ]
  },
  {
   "cell_type": "code",
   "execution_count": 22,
   "metadata": {},
   "outputs": [],
   "source": [
    "cur.execute(\"\"\"SELECT name, imdb_avg_score, rt_critics_score, genre_name\n",
    "            from titles \n",
    "            join genres on titles.imdb_id = genres.title_id\n",
    "            where rt_critics_score > 70 and release_year > 2016 \n",
    "            and imdb_avg_score is not NULL\n",
    "            and genre_name='Horror'\n",
    "            order by imdb_avg_score DESC\n",
    "            limit 20\"\"\")"
   ]
  },
  {
   "cell_type": "code",
   "execution_count": 23,
   "metadata": {},
   "outputs": [
    {
     "data": {
      "text/plain": [
       "[('The Killing of a Sacred Deer', 7.0, 80.0, 'Horror'),\n",
       " ('Super Dark Times', 6.6, 90.0, 'Horror'),\n",
       " (\"Gerald's Game\", 6.5, 91.0, 'Horror'),\n",
       " ('Creep 2', 6.5, 100.0, 'Horror'),\n",
       " ('The Babysitter', 6.3, 72.0, 'Horror'),\n",
       " ('1922', 6.3, 91.0, 'Horror'),\n",
       " ('Apostle', 6.3, 78.0, 'Horror'),\n",
       " ('Berlin Syndrome', 6.3, 75.0, 'Horror'),\n",
       " ('It Comes at Night', 6.2, 87.0, 'Horror'),\n",
       " ('Cam', 5.9, 93.0, 'Horror'),\n",
       " ('Sweetheart', 5.8, 95.0, 'Horror'),\n",
       " ('Little Evil', 5.7, 92.0, 'Horror'),\n",
       " ('What Keeps You Alive', 5.7, 82.0, 'Horror'),\n",
       " ('Lifechanger', 5.4, 86.0, 'Horror'),\n",
       " ('Await Further Instructions', 4.8, 80.0, 'Horror'),\n",
       " ('Girl on the Third Floor', 4.6, 84.0, 'Horror')]"
      ]
     },
     "execution_count": 23,
     "metadata": {},
     "output_type": "execute_result"
    }
   ],
   "source": [
    "cur.fetchall()"
   ]
  },
  {
   "cell_type": "code",
   "execution_count": 24,
   "metadata": {},
   "outputs": [
    {
     "ename": "ProgrammingError",
     "evalue": "function collect_list(character varying) does not exist\nLINE 1: SELECT name, imdb_avg_score, rt_critics_score, collect_list(...\n                                                       ^\nHINT:  No function matches the given name and argument types. You might need to add explicit type casts.\n",
     "output_type": "error",
     "traceback": [
      "\u001b[0;31m---------------------------------------------------------------------------\u001b[0m",
      "\u001b[0;31mProgrammingError\u001b[0m                          Traceback (most recent call last)",
      "\u001b[0;32m<ipython-input-24-0f8ae000c8fa>\u001b[0m in \u001b[0;36m<module>\u001b[0;34m\u001b[0m\n\u001b[1;32m      6\u001b[0m             \u001b[0mgroup\u001b[0m \u001b[0mby\u001b[0m \u001b[0mgenres\u001b[0m\u001b[0;34m.\u001b[0m\u001b[0mtitle_id\u001b[0m\u001b[0;34m\u001b[0m\u001b[0;34m\u001b[0m\u001b[0m\n\u001b[1;32m      7\u001b[0m             \u001b[0morder\u001b[0m \u001b[0mby\u001b[0m \u001b[0mimdb_avg_score\u001b[0m \u001b[0mDESC\u001b[0m\u001b[0;34m\u001b[0m\u001b[0;34m\u001b[0m\u001b[0m\n\u001b[0;32m----> 8\u001b[0;31m             limit 20\"\"\")\n\u001b[0m",
      "\u001b[0;31mProgrammingError\u001b[0m: function collect_list(character varying) does not exist\nLINE 1: SELECT name, imdb_avg_score, rt_critics_score, collect_list(...\n                                                       ^\nHINT:  No function matches the given name and argument types. You might need to add explicit type casts.\n"
     ]
    }
   ],
   "source": [
    "cur.execute(\"\"\"SELECT name, imdb_avg_score, rt_critics_score, collect_list(genre_name)\n",
    "            from titles \n",
    "            join genres on titles.imdb_id = genres.title_id\n",
    "            where rt_critics_score > 70 and release_year > 2016 \n",
    "            and imdb_avg_score is not NULL\n",
    "            group by genres.title_id\n",
    "            order by imdb_avg_score DESC\n",
    "            limit 20\"\"\")"
   ]
  },
  {
   "cell_type": "code",
   "execution_count": null,
   "metadata": {},
   "outputs": [],
   "source": []
  }
 ],
 "metadata": {
  "kernelspec": {
   "display_name": "Python 3",
   "language": "python",
   "name": "python3"
  },
  "language_info": {
   "codemirror_mode": {
    "name": "ipython",
    "version": 3
   },
   "file_extension": ".py",
   "mimetype": "text/x-python",
   "name": "python",
   "nbconvert_exporter": "python",
   "pygments_lexer": "ipython3",
   "version": "3.6.8"
  }
 },
 "nbformat": 4,
 "nbformat_minor": 4
}
