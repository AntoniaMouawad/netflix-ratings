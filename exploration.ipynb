{
 "cells": [
  {
   "cell_type": "code",
   "execution_count": 1,
   "metadata": {},
   "outputs": [],
   "source": [
    "import pandas as pd"
   ]
  },
  {
   "cell_type": "code",
   "execution_count": 2,
   "metadata": {},
   "outputs": [],
   "source": [
    "imdb_titles_path = '/Users/antoniam/Desktop/personal/netflix-ratings/data/imdb/title.basics.tsv'\n",
    "imdb_ratings_path = '/Users/antoniam/Desktop/personal/netflix-ratings/data/imdb/title.ratings.tsv'\n",
    "imdb_principals_path = '/Users/antoniam/Desktop/personal/netflix-ratings/data/imdb/title.principals.tsv'\n",
    "imdb_crew_path = '/Users/antoniam/Desktop/personal/netflix-ratings/data/imdb/title.crew.tsv'\n",
    "imdb_names_path = '/Users/antoniam/Desktop/personal/netflix-ratings/data/imdb/name.basics.tsv'\n",
    "rotten_tomatoes_movies_path = '/Users/antoniam/Desktop/personal/netflix-ratings/data/rotten_tomatoes/rotten_tomatoes_movies.csv'\n",
    "netflix_titles_path = '/Users/antoniam/Desktop/personal/netflix-ratings/data/netflix/netflix_titles.csv'"
   ]
  },
  {
   "cell_type": "markdown",
   "metadata": {},
   "source": [
    "## IMDB dataset"
   ]
  },
  {
   "cell_type": "code",
   "execution_count": null,
   "metadata": {},
   "outputs": [],
   "source": [
    "imdb_titles_df = pd.read_csv(imdb_titles_path, '\\t', low_memory=False)\n",
    "imdb_titles_df.head(2)"
   ]
  },
  {
   "cell_type": "code",
   "execution_count": null,
   "metadata": {},
   "outputs": [],
   "source": [
    "imdb_ratings_df = pd.read_csv(imdb_ratings_path,'\\t')\n",
    "imdb_ratings_df.head(2)"
   ]
  },
  {
   "cell_type": "code",
   "execution_count": null,
   "metadata": {},
   "outputs": [],
   "source": [
    "imdb_principals_df = pd.read_csv(imdb_principals_path,'\\t')\n",
    "imdb_principals_df.head(2)"
   ]
  },
  {
   "cell_type": "code",
   "execution_count": null,
   "metadata": {},
   "outputs": [],
   "source": [
    "imdb_names_df = pd.read_csv(imdb_names_path,'\\t')\n",
    "imdb_names_df.head(2)"
   ]
  },
  {
   "cell_type": "markdown",
   "metadata": {},
   "source": [
    "## Rotten Tomatoes Dataset"
   ]
  },
  {
   "cell_type": "code",
   "execution_count": null,
   "metadata": {},
   "outputs": [],
   "source": [
    "rt_df = pd.read_csv(rotten_tomatoes_movies_path)\n",
    "rt_df.head(2)"
   ]
  },
  {
   "cell_type": "markdown",
   "metadata": {},
   "source": [
    "## Netflix Dataset"
   ]
  },
  {
   "cell_type": "code",
   "execution_count": null,
   "metadata": {},
   "outputs": [],
   "source": [
    "netflix_df = pd.read_csv(netflix_titles_path)\n",
    "netflix_df.head(2)"
   ]
  },
  {
   "cell_type": "markdown",
   "metadata": {},
   "source": [
    "## Tables Create Statements"
   ]
  },
  {
   "cell_type": "code",
   "execution_count": 3,
   "metadata": {},
   "outputs": [
    {
     "name": "stderr",
     "output_type": "stream",
     "text": [
      "/Library/Frameworks/Python.framework/Versions/3.6/lib/python3.6/site-packages/psycopg2/__init__.py:144: UserWarning: The psycopg2 wheel package will be renamed from release 2.8; in order to keep installing from binary please use \"pip install psycopg2-binary\" instead. For details see: <http://initd.org/psycopg/docs/install.html#binary-install-from-pypi>.\n",
      "  \"\"\")\n"
     ]
    }
   ],
   "source": [
    "import psycopg2"
   ]
  },
  {
   "cell_type": "code",
   "execution_count": 4,
   "metadata": {},
   "outputs": [],
   "source": [
    "def create_database():\n",
    "\n",
    "    # connect to default database\n",
    "    conn = psycopg2.connect(\"host=127.0.0.1 dbname=postgres user=antoniam\")\n",
    "    conn.set_session(autocommit=True)\n",
    "    cur = conn.cursor()\n",
    "    \n",
    "    # create sparkify database with UTF8 encoding\n",
    "    cur.execute(\"\"\"\n",
    "    SELECT pg_terminate_backend(pg_stat_activity.pid)\n",
    "    FROM pg_stat_activity\n",
    "    WHERE pg_stat_activity.datname = 'movies_db';\"\"\")\n",
    "    cur.execute(\"DROP DATABASE IF EXISTS movies_db\")\n",
    "    cur.execute(\"CREATE DATABASE movies_db WITH ENCODING 'utf8' TEMPLATE template0\")\n",
    "\n",
    "    # close connection to default database\n",
    "    conn.close()    \n",
    "    \n",
    "    # connect to sparkify database\n",
    "    conn = psycopg2.connect(\"host=127.0.0.1 dbname=movies_db\")\n",
    "    conn.set_session(autocommit=True)\n",
    "    cur = conn.cursor()\n",
    "    \n",
    "    return cur, conn"
   ]
  },
  {
   "cell_type": "code",
   "execution_count": 5,
   "metadata": {},
   "outputs": [],
   "source": [
    "cur, conn = create_database()"
   ]
  },
  {
   "cell_type": "code",
   "execution_count": 6,
   "metadata": {},
   "outputs": [],
   "source": [
    "create_staging_imdb_titles =\"\"\"CREATE TABLE IF NOT EXISTS staging_imdb_titles(\n",
    "tconst VARCHAR NOT NULL PRIMARY KEY,\n",
    "titleType VARCHAR,\n",
    "primaryTitle VARCHAR,\n",
    "originalTitle VARCHAR,\n",
    "isAdult VARCHAR,\n",
    "startYear VARCHAR,\n",
    "endYear VARCHAR,\n",
    "runtimeMinutes VARCHAR,\n",
    "genres VARCHAR);\n",
    "\"\"\"\n",
    "\n",
    "create_staging_imdb_ratings =\"\"\"CREATE TABLE IF NOT EXISTS staging_imdb_ratings(\n",
    "tconst VARCHAR NOT NULL,\n",
    "averageRating FLOAT,\n",
    "numVotes INT);\n",
    "\"\"\"\n",
    "\n",
    "create_staging_imdb_principals = \"\"\"CREATE TABLE IF NOT EXISTS staging_imdb_principals(\n",
    "tconst VARCHAR NOT NULL,\n",
    "ordering INTEGER NOT NULL,\n",
    "nconst VARCHAR NOT NULL, \n",
    "category VARCHAR NOT NULL,\n",
    "job VARCHAR NOT NULL,\n",
    "characters VARCHAR NOT NULL);\n",
    "\"\"\"\n",
    "\n",
    "create_staging_imdb_crew = \"\"\"CREATE TABLE IF NOT EXISTS staging_imdb_crew(\n",
    "tconst VARCHAR NOT NULL,\n",
    "directors VARCHAR, \n",
    "writers VARCHAR);\n",
    "\"\"\"\n",
    "\n",
    "create_staging_imdb_names = \"\"\"CREATE TABLE IF NOT EXISTS staging_imdb_names(\n",
    "nconst VARCHAR NOT NULL PRIMARY KEY,\n",
    "primaryName VARCHAR NOT NULL,\n",
    "birthYear VARCHAR,\n",
    "deathYear VARCHAR,\n",
    "primaryProfession VARCHAR,\n",
    "knownForTitles VARCHAR);\n",
    "\"\"\"\n",
    "\n",
    "create_staging_rotten_tomatoes_titles = \"\"\"CREATE TABLE IF NOT EXISTS staging_rotten_tomatoes_titles(\n",
    "rotten_tomatoes_link VARCHAR, \n",
    "movie_title VARCHAR,\n",
    "movie_info VARCHAR,\n",
    "critics_consensus VARCHAR, \n",
    "content_rating VARCHAR, \n",
    "genres VARCHAR, \n",
    "directors VARCHAR, \n",
    "authors VARCHAR,\n",
    "actors VARCHAR, \n",
    "original_release_date DATE, \n",
    "streaming_release_date DATE, \n",
    "runtime FLOAT,\n",
    "production_company VARCHAR, \n",
    "tomatometer_status VARCHAR, \n",
    "tomatometer_rating FLOAT,\n",
    "tomatometer_count INT, \n",
    "audience_status VARCHAR, \n",
    "audience_rating FLOAT,\n",
    "audience_count INT, \n",
    "tomatometer_top_critics_count INT,\n",
    "tomatometer_fresh_critics_count INT, \n",
    "tomatometer_rotten_critics_count INT);\n",
    "\"\"\"\n",
    "create_staging_netflix_titles = \"\"\"CREATE TABLE IF NOT EXISTS staging_netflix_titles(\n",
    "show_id VARCHAR NOT NULL PRIMARY KEY,\n",
    "\"type\" VARCHAR,\n",
    "title VARCHAR,\n",
    "director VARCHAR,\n",
    "\"cast\" VARCHAR,\n",
    "country VARCHAR,\n",
    "date_added DATE,\n",
    "release_year INT4,\n",
    "rating VARCHAR,\n",
    "duration VARCHAR,\n",
    "listed_in VARCHAR,\n",
    "description VARCHAR);\n",
    "\"\"\""
   ]
  },
  {
   "cell_type": "code",
   "execution_count": 7,
   "metadata": {},
   "outputs": [],
   "source": [
    "create_temp_table = \\\n",
    "\"\"\"CREATE TABLE IF NOT EXISTS temp_netflix_imdb(\n",
    "    imdb_title_id VARCHAR,\n",
    "    netflix_title_id VARCHAR);\n",
    "\"\"\""
   ]
  },
  {
   "cell_type": "code",
   "execution_count": 8,
   "metadata": {},
   "outputs": [],
   "source": [
    "create_titles = \\\n",
    "\"\"\"CREATE TABLE IF NOT EXISTS titles(\n",
    "  id SERIAL PRIMARY KEY,\n",
    "  name VARCHAR,\n",
    "  description VARCHAR,\n",
    "  year INT4,\n",
    "  runtime_minutes INT,\n",
    "  country VARCHAR,\n",
    "  isAdult BOOLEAN,\n",
    "  type VARCHAR,\n",
    "  imdb_avg_score FLOAT,\n",
    "  imdb_n_ratings INT,\n",
    "  rt_critics_score FLOAT,\n",
    "  rt_n_critics INT,\n",
    "  rt_audience_score FLOAT,\n",
    "  rt_n_audience INT);\n",
    "\"\"\"\n",
    "\n",
    "create_roles = \\\n",
    "\"\"\"CREATE TABLE IF NOT EXISTS roles(\n",
    "id SERIAL PRIMARY KEY,\n",
    "title_id VARCHAR,\n",
    "person_id VARCHAR,\n",
    "role_name VARCHAR NOT NULL\n",
    ");\n",
    "\"\"\"\n",
    "\n",
    "create_persons = \\\n",
    "\"\"\"CREATE TABLE IF NOT EXISTS persons(\n",
    "id VARCHAR NOT NULL PRIMARY KEY,\n",
    "full_name VARCHAR NOT NULL,\n",
    "birth_year INT4,\n",
    "death_year INT4\n",
    ");\n",
    "\"\"\"\n",
    "\n",
    "create_genres = \\\n",
    "\"\"\"CREATE TABLE IF NOT EXISTS genres(\n",
    "id SERIAL PRIMARY KEY,\n",
    "title_id VARCHAR NOT NULL,\n",
    "genre_name VARCHAR NOT NULL);\"\"\"\n"
   ]
  },
  {
   "cell_type": "code",
   "execution_count": 9,
   "metadata": {},
   "outputs": [],
   "source": [
    "staging_tables_sql = [create_staging_imdb_titles, create_staging_imdb_ratings, create_staging_imdb_principals, create_staging_imdb_names, \n",
    " create_staging_rotten_tomatoes_titles, create_staging_netflix_titles, create_staging_imdb_crew, create_temp_table]\n",
    "\n",
    "final_tables = [create_titles, create_roles, create_persons, create_genres]"
   ]
  },
  {
   "cell_type": "code",
   "execution_count": 10,
   "metadata": {},
   "outputs": [],
   "source": [
    "for s in staging_tables_sql + final_tables:\n",
    "    cur.execute(s)"
   ]
  },
  {
   "cell_type": "code",
   "execution_count": 11,
   "metadata": {},
   "outputs": [
    {
     "name": "stdout",
     "output_type": "stream",
     "text": [
      "COPY staging_imdb_titles FROM '/Users/antoniam/Desktop/personal/netflix-ratings/data/imdb/title.basics.tsv' delimiter '\t' CSV HEADER\n",
      "COPY staging_imdb_ratings FROM '/Users/antoniam/Desktop/personal/netflix-ratings/data/imdb/title.ratings.tsv' delimiter '\t' CSV HEADER\n",
      "COPY staging_imdb_principals FROM '/Users/antoniam/Desktop/personal/netflix-ratings/data/imdb/title.principals.tsv' delimiter '\t' CSV HEADER\n",
      "COPY staging_imdb_names FROM '/Users/antoniam/Desktop/personal/netflix-ratings/data/imdb/name.basics.tsv' delimiter '\t' CSV HEADER\n",
      "COPY staging_imdb_crew FROM '/Users/antoniam/Desktop/personal/netflix-ratings/data/imdb/title.crew.tsv' delimiter '\t' CSV HEADER\n",
      "COPY staging_rotten_tomatoes_titles FROM '/Users/antoniam/Desktop/personal/netflix-ratings/data/rotten_tomatoes/rotten_tomatoes_movies.csv' delimiter ',' CSV HEADER\n",
      "COPY staging_netflix_titles FROM '/Users/antoniam/Desktop/personal/netflix-ratings/data/netflix/netflix_titles.csv' delimiter ',' CSV HEADER\n"
     ]
    }
   ],
   "source": [
    "copy_staging_titles = f\"COPY staging_imdb_titles FROM '{imdb_titles_path}' delimiter '\\t' CSV HEADER\"\n",
    "copy_staging_ratings = f\"COPY staging_imdb_ratings FROM '{imdb_ratings_path}' delimiter '\\t' CSV HEADER\"\n",
    "copy_staging_principals = f\"COPY staging_imdb_principals FROM '{imdb_principals_path}' delimiter '\\t' CSV HEADER\"\n",
    "copy_staging_crew = f\"COPY staging_imdb_crew FROM '{imdb_crew_path}' delimiter '\\t' CSV HEADER\"\n",
    "copy_staging_names = f\"COPY staging_imdb_names FROM '{imdb_names_path}' delimiter '\\t' CSV HEADER\"\n",
    "copy_staging_rt = f\"COPY staging_rotten_tomatoes_titles FROM '{rotten_tomatoes_movies_path}' delimiter ',' CSV HEADER\"\n",
    "copy_staging_netflix = f\"COPY staging_netflix_titles FROM '{netflix_titles_path}' delimiter ',' CSV HEADER\"\n",
    "\n",
    "\n",
    "copy_staging = [copy_staging_titles, copy_staging_ratings, copy_staging_principals, copy_staging_names, copy_staging_crew, copy_staging_rt, copy_staging_netflix]\n",
    "\n",
    "for s in copy_staging: \n",
    "    print(s)\n",
    "    cur.execute(s)"
   ]
  },
  {
   "cell_type": "markdown",
   "metadata": {},
   "source": [
    "## Final tables"
   ]
  },
  {
   "cell_type": "markdown",
   "metadata": {},
   "source": [
    "### Temp table"
   ]
  },
  {
   "cell_type": "code",
   "execution_count": null,
   "metadata": {},
   "outputs": [],
   "source": [
    "cur.execute('DROP table temp_netflix_imdb')"
   ]
  },
  {
   "cell_type": "code",
   "execution_count": null,
   "metadata": {},
   "outputs": [],
   "source": [
    "cur.execute(create_temp_table)"
   ]
  },
  {
   "cell_type": "code",
   "execution_count": null,
   "metadata": {},
   "outputs": [],
   "source": [
    "from time import time"
   ]
  },
  {
   "cell_type": "code",
   "execution_count": null,
   "metadata": {},
   "outputs": [],
   "source": [
    "t = time()\n",
    "st = \\\n",
    "\"\"\"INSERT INTO temp_netflix_imdb(imdb_title_id, netflix_title_id)\n",
    "SELECT distinct imdb.tconst, netflix.show_id\n",
    "FROM staging_netflix_titles netflix \n",
    "LEFT JOIN staging_imdb_titles imdb\n",
    "ON lower(substr(netflix.title, 1, 8)) = lower(substr(imdb.primaryTitle,1, 8))\n",
    "WHERE imdb.titleType in ('tvSpecial', 'tvSeries', 'tvShort', 'movie', 'tvMovie', 'short', 'tvMiniSeries')\n",
    "\"\"\"\n",
    "cur.execute(st)\n",
    "print(time() - t)"
   ]
  },
  {
   "cell_type": "code",
   "execution_count": null,
   "metadata": {
    "scrolled": true
   },
   "outputs": [],
   "source": [
    "r = cur.fetchall()"
   ]
  },
  {
   "cell_type": "code",
   "execution_count": null,
   "metadata": {},
   "outputs": [],
   "source": [
    "len(r)"
   ]
  },
  {
   "cell_type": "code",
   "execution_count": null,
   "metadata": {},
   "outputs": [],
   "source": [
    "len(r)"
   ]
  },
  {
   "cell_type": "markdown",
   "metadata": {},
   "source": [
    "### Genres table"
   ]
  },
  {
   "cell_type": "code",
   "execution_count": 12,
   "metadata": {},
   "outputs": [],
   "source": [
    "cur.execute(create_genres)"
   ]
  },
  {
   "cell_type": "code",
   "execution_count": 13,
   "metadata": {},
   "outputs": [],
   "source": [
    "t = time()\n",
    "st = \\\n",
    "\"\"\"INSERT INTO genres(title_id, genre_name)\n",
    "   SELECT tconst, unnest(string_to_array(genres, ',')) as genre\n",
    "   FROM staging_imdb_titles \n",
    "   WHERE genres!='\\\\N' \n",
    "   AND titleType in ('tvSpecial', 'tvSeries', 'tvShort', 'movie', 'tvMovie', 'short', 'tvMiniSeries')\n",
    "   \"\"\"\n",
    "cur.execute(st)\n",
    "print(time() - t)"
   ]
  },
  {
   "cell_type": "markdown",
   "metadata": {},
   "source": [
    "### Persons table"
   ]
  },
  {
   "cell_type": "code",
   "execution_count": 14,
   "metadata": {},
   "outputs": [],
   "source": [
    "%% time\n",
    "st = \\\n",
    "\"\"\"INSERT INTO persons(id, full_name, birth_year, death_year)\n",
    "SELECT nconst, primaryName, \n",
    "NULLIF(regexp_replace(birthYear, '\\D','','g'), '')::numeric AS birth_year,\n",
    "NULLIF(regexp_replace(deathYear, '\\D','','g'), '')::numeric AS death_year\n",
    "from staging_imdb_names\n",
    "\"\"\"\n",
    "cur.execute(st)"
   ]
  },
  {
   "cell_type": "markdown",
   "metadata": {},
   "source": [
    "### Roles table"
   ]
  },
  {
   "cell_type": "code",
   "execution_count": 18,
   "metadata": {},
   "outputs": [
    {
     "name": "stdout",
     "output_type": "stream",
     "text": [
      "CPU times: user 5.39 ms, sys: 3.14 ms, total: 8.53 ms\n",
      "Wall time: 3min 59s\n"
     ]
    }
   ],
   "source": [
    "%%time\n",
    "st = \\\n",
    "\"\"\"INSERT INTO roles(title_id, person_id, role_name)\n",
    "SELECT titles.tconst, nconst, category\n",
    "FROM staging_imdb_titles titles\n",
    "JOIN staging_imdb_principals principals\n",
    "ON titles.tconst = principals.tconst\n",
    "WHERE principals.category in ('director', 'writer', 'actor', 'actress') \n",
    "AND titles.titleType in ('tvSpecial', 'tvSeries', 'tvShort', 'movie', 'tvMovie', 'short', 'tvMiniSeries')\n",
    "\n",
    "UNION\n",
    "SELECT titles.tconst, unnest(string_to_array(directors, ',')) as nconst, 'director'\n",
    "FROM staging_imdb_titles titles\n",
    "JOIN staging_imdb_crew crew\n",
    "ON titles.tconst = crew.tconst\n",
    "WHERE directors!='\\\\N'\n",
    "AND titles.titleType in ('tvSpecial', 'tvSeries', 'tvShort', 'movie', 'tvMovie', 'short', 'tvMiniSeries')\n",
    "\n",
    "UNION\n",
    "SELECT titles.tconst, unnest(string_to_array(writers, ',')) as nconst, 'writer'\n",
    "FROM staging_imdb_titles titles\n",
    "JOIN staging_imdb_crew crew\n",
    "ON titles.tconst = crew.tconst\n",
    "WHERE writers!='\\\\N'\n",
    "AND titles.titleType in ('tvSpecial', 'tvSeries', 'tvShort', 'movie', 'tvMovie', 'short', 'tvMiniSeries')\n",
    "\"\"\"\n",
    "cur.execute(st)"
   ]
  },
  {
   "cell_type": "markdown",
   "metadata": {},
   "source": [
    "### Titles table"
   ]
  },
  {
   "cell_type": "code",
   "execution_count": 51,
   "metadata": {},
   "outputs": [
    {
     "name": "stdout",
     "output_type": "stream",
     "text": [
      "CPU times: user 4.17 ms, sys: 3.67 ms, total: 7.84 ms\n",
      "Wall time: 22.7 s\n"
     ]
    }
   ],
   "source": [
    "%%time\n",
    "st = \"\"\"\n",
    "SELECT staging_netflix_titles.show_id, staging_netflix_titles.type, staging_netflix_titles.title, \n",
    "staging_netflix_titles.country, staging_netflix_titles.release_year, \n",
    "staging_netflix_titles.description, with_imdb.tconst, staging_netflix_titles.rating, with_imdb.runtimeMinutes, \n",
    "averageRating, numVotes, with_rt.tomatometer_rating, with_rt.tomatometer_count, with_rt.audience_rating, \n",
    "with_rt.audience_count, with_rt.critics_consensus\n",
    "\n",
    "FROM staging_netflix_titles \n",
    "LEFT JOIN (\n",
    "        SELECT distinct netflix.show_id, netflix.type, netflix.title, netflix.country, netflix.release_year, \n",
    "                netflix.description, imdb.tconst, runtimeMinutes, averageRating, numVotes\n",
    "                FROM(\n",
    "                    SELECT show_id, type, title, country, release_year, description,\n",
    "                    unnest(string_to_array(staging_netflix_titles.director, ',')) as director,\n",
    "                    unnest(string_to_array(staging_netflix_titles.cast, ',')) as actor\n",
    "                    FROM staging_netflix_titles) as netflix\n",
    "                JOIN(\n",
    "                    SELECT *\n",
    "                    FROM staging_imdb_titles \n",
    "                    JOIN roles\n",
    "                    ON roles.title_id = staging_imdb_titles.tconst\n",
    "                    JOIN persons \n",
    "                    ON persons.id = roles.person_id\n",
    "                    WHERE titleType in ('tvSpecial', 'tvSeries', 'tvShort', 'movie', 'tvMovie', 'short', 'tvMiniSeries')) as imdb\n",
    "                JOIN staging_imdb_ratings \n",
    "                    ON staging_imdb_ratings.tconst = imdb.tconst\n",
    "            ON lower(substr(netflix.title, 1, 5)) = lower(substr(imdb.OriginalTitle, 1, 5))\n",
    "            AND netflix.release_year::varchar = imdb.startYear\n",
    "            AND (netflix.actor = imdb.full_name or netflix.director = imdb.full_name)\n",
    "        ) as with_imdb\n",
    "ON with_imdb.show_id = staging_netflix_titles.show_id\n",
    "\n",
    "LEFT JOIN (\n",
    "        SELECT distinct netflix.show_id, netflix.type, netflix.title, netflix.country, netflix.release_year, \n",
    "                netflix.description, rt.tomatometer_rating, rt.tomatometer_count, rt.audience_rating, rt.audience_count,\n",
    "                rt.critics_consensus\n",
    "                FROM(\n",
    "                    SELECT show_id, type, title, country, release_year, description,\n",
    "                    unnest(string_to_array(staging_netflix_titles.director, ',')) as director,\n",
    "                    unnest(string_to_array(staging_netflix_titles.cast, ',')) as actor\n",
    "                    FROM staging_netflix_titles) as netflix\n",
    "                JOIN(\n",
    "                    SELECT rt.tomatometer_rating, rt.tomatometer_count, rt.audience_rating, rt.audience_count,\n",
    "                    rt.critics_consensus, rt.movie_title, rt.original_release_date,\n",
    "                    unnest(string_to_array(rt.directors, ',')) as director,\n",
    "                    unnest(string_to_array(rt.actors, ',')) as actor\n",
    "                    FROM staging_rotten_tomatoes_titles rt) rt\n",
    "                ON lower(substr(netflix.title, 1, 5)) = lower(substr(rt.movie_title, 1, 5))\n",
    "                AND netflix.release_year = extract(year from rt.original_release_date)\n",
    "                AND (netflix.director = rt.director or netflix.actor = rt.actor) \n",
    "                ) as with_rt\n",
    "ON with_rt.show_id = staging_netflix_titles.show_id\n",
    "\"\"\"\n",
    "cur.execute(st)"
   ]
  }
 ],
 "metadata": {
  "kernelspec": {
   "display_name": "Python 3",
   "language": "python",
   "name": "python3"
  },
  "language_info": {
   "codemirror_mode": {
    "name": "ipython",
    "version": 3
   },
   "file_extension": ".py",
   "mimetype": "text/x-python",
   "name": "python",
   "nbconvert_exporter": "python",
   "pygments_lexer": "ipython3",
   "version": "3.6.8"
  }
 },
 "nbformat": 4,
 "nbformat_minor": 4
}
