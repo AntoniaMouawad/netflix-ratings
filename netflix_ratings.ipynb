{
 "cells": [
  {
   "cell_type": "code",
   "execution_count": 1,
   "metadata": {},
   "outputs": [],
   "source": [
    "import psycopg2\n",
    "import configparser\n",
    "import pandas as pd\n",
    "import matplotlib.pyplot as plt\n",
    "from sql_queries import create_table_queries, drop_table_queries, copy_table_queries, insert_table_queries"
   ]
  },
  {
   "cell_type": "markdown",
   "metadata": {},
   "source": [
    "## postgresql connection"
   ]
  },
  {
   "cell_type": "code",
   "execution_count": 2,
   "metadata": {},
   "outputs": [],
   "source": [
    "def create_database():\n",
    "\n",
    "    # connect to default database\n",
    "    conn = psycopg2.connect(\"host=127.0.0.1 dbname=postgres user=antoniam\")\n",
    "    conn.set_session(autocommit=True)\n",
    "    cur = conn.cursor()\n",
    "    \n",
    "    # create sparkify database with UTF8 encoding\n",
    "    cur.execute(\"\"\"\n",
    "    SELECT pg_terminate_backend(pg_stat_activity.pid)\n",
    "    FROM pg_stat_activity\n",
    "    WHERE pg_stat_activity.datname = 'movies_db';\"\"\")\n",
    "    cur.execute(\"DROP DATABASE IF EXISTS movies_db\")\n",
    "    cur.execute(\"CREATE DATABASE movies_db WITH ENCODING 'utf8' TEMPLATE template0\")\n",
    "\n",
    "    # close connection to default database\n",
    "    conn.close()    \n",
    "    \n",
    "    # connect to sparkify database\n",
    "    conn = psycopg2.connect(\"host=127.0.0.1 dbname=movies_db\")\n",
    "    conn.set_session(autocommit=True)\n",
    "    cur = conn.cursor()\n",
    "    \n",
    "    return cur, conn"
   ]
  },
  {
   "cell_type": "markdown",
   "metadata": {},
   "source": [
    "## ETL"
   ]
  },
  {
   "cell_type": "code",
   "execution_count": 3,
   "metadata": {},
   "outputs": [],
   "source": [
    "def drop_tables(cur):\n",
    "    \"\"\"\n",
    "        Drops all the tables\n",
    "\n",
    "        Parameters:\n",
    "        - cur: cursor object that allows Python to execute PostgreSQL commands in a database session\n",
    "        - conn: connection to the cluster\n",
    "    \"\"\"\n",
    "    for query in drop_table_queries:\n",
    "        cur.execute(query)\n",
    "\n",
    "\n",
    "def create_tables(cur):\n",
    "    \"\"\"\n",
    "        Creates all the tables\n",
    "\n",
    "        Parameters:\n",
    "        - cur: cursor object that allows Python to execute PostgreSQL commands in a database session\n",
    "        - conn: connection to the cluster\n",
    "    \"\"\"\n",
    "    for query in create_table_queries:\n",
    "        cur.execute(query)\n",
    "\n",
    "def load_staging_tables(cur):\n",
    "    \"\"\"\n",
    "        Extracts data into staging tables\n",
    "\n",
    "        Parameters:\n",
    "        - cur: cursor object that allows Python to execute PostgreSQL commands in a database session\n",
    "        - conn: connection to the cluster\n",
    "    \"\"\"\n",
    "    for query in copy_table_queries:\n",
    "        print(query)\n",
    "        cur.execute(query)\n",
    "\n",
    "\n",
    "def insert_tables(cur):\n",
    "    \"\"\"\n",
    "        Inserts (transformed) data into final tables from staging tables\n",
    "\n",
    "        Parameters:\n",
    "        - cur: cursor object that allows Python to execute PostgreSQL commands in a database session\n",
    "        - conn: connection to the cluster\n",
    "    \"\"\"\n",
    "    for query in insert_table_queries:\n",
    "        cur.execute(query)"
   ]
  },
  {
   "cell_type": "markdown",
   "metadata": {},
   "source": [
    "## Quality Checks"
   ]
  },
  {
   "cell_type": "code",
   "execution_count": 4,
   "metadata": {},
   "outputs": [],
   "source": [
    "def staging_tables_quality_checks():\n",
    "    staging_tables = ['staging_imdb_titles', 'staging_imdb_ratings', 'staging_imdb_principals',\n",
    "                     'staging_imdb_crew', 'staging_imdb_names', 'staging_rotten_tomatoes_titles', 'staging_netflix_titles']\n",
    "    for table in staging_tables:\n",
    "        cur.execute(f'select count(*) from {table} LIMIT 10')\n",
    "        if cur.fetchone()[0] < 1:\n",
    "            raise Exception (f'Records did not get copied correctly for table {table}')\n",
    "    print('Staging Quality Checks completed successfully')\n",
    "        \n",
    "def final_table_quality_checks():\n",
    "    def netflix_titles_match():\n",
    "        cur.execute('SELECT DISTINCT show_id from staging_netflix_titles')\n",
    "        netflix_titles_staging = cur.fetchall()\n",
    "\n",
    "        cur.execute('SELECT DISTINCT netflix_id from titles')\n",
    "        netflix_titles_final = cur.fetchall()\n",
    "        if sorted(netflix_titles_staging) != sorted(netflix_titles_final):\n",
    "            raise Exception('Missing or additional netflix titles')\n",
    "        print('Test 1: Netflix titles match')\n",
    "        \n",
    "    def correct_multiple_roles():\n",
    "        cur.execute(\"\"\"SELECT role_name from titles \n",
    "                        JOIN roles\n",
    "                        ON titles.imdb_id = roles.title_id\n",
    "                        JOIN persons\n",
    "                        ON persons.id = roles.person_id\n",
    "                        where netflix_id='s1156' AND full_name='Angelina Jolie'\n",
    "            \"\"\")\n",
    "        res = cur.fetchall()\n",
    "        if sorted([r[0] for r in res]) != ['actress', 'director', 'writer']:\n",
    "            raise Exception('Role/Person tables incorrectly created')\n",
    "        print('Test2: Correct multiple roles')\n",
    "    netflix_titles_match()\n",
    "    correct_multiple_roles()"
   ]
  },
  {
   "cell_type": "code",
   "execution_count": 5,
   "metadata": {},
   "outputs": [],
   "source": [
    "cur, conn = create_database()"
   ]
  },
  {
   "cell_type": "code",
   "execution_count": null,
   "metadata": {},
   "outputs": [
    {
     "name": "stdout",
     "output_type": "stream",
     "text": [
      "Cleaning up tables\n",
      "Creating tables\n",
      "Loading staging tables\n",
      "COPY staging_imdb_titles FROM '/Users/antoniam/Desktop/personal/netflix-ratings/data/imdb/title.basics.tsv' delimiter '\t' CSV HEADER\n",
      "COPY staging_imdb_ratings FROM '/Users/antoniam/Desktop/personal/netflix-ratings/data/imdb/title.ratings.tsv' delimiter '\t' CSV HEADER\n",
      "COPY staging_imdb_principals FROM '/Users/antoniam/Desktop/personal/netflix-ratings/data/imdb/title.principals.tsv' delimiter '\t' CSV HEADER\n"
     ]
    }
   ],
   "source": [
    "print('Cleaning up tables')\n",
    "drop_tables(cur)\n",
    "print('Creating tables')\n",
    "create_tables(cur)\n",
    "print('Loading staging tables')\n",
    "load_staging_tables(cur)\n",
    "print('Staging tables Quality Checks')\n",
    "staging_tables_quality_checks()\n",
    "print(\"Inserting tables\")\n",
    "insert_tables(cur)"
   ]
  },
  {
   "cell_type": "code",
   "execution_count": null,
   "metadata": {},
   "outputs": [],
   "source": [
    "print('Running final quality checks')\n",
    "final_table_quality_checks()"
   ]
  },
  {
   "cell_type": "markdown",
   "metadata": {},
   "source": [
    "## EXAMPLE QUERIES"
   ]
  },
  {
   "cell_type": "markdown",
   "metadata": {},
   "source": [
    "### 1- Get horror movies released after 2016 with rotten tomatoes critics score higher than 70, ordered by imdb score"
   ]
  },
  {
   "cell_type": "code",
   "execution_count": null,
   "metadata": {},
   "outputs": [],
   "source": [
    "cur.execute(\"\"\"SELECT name, imdb_avg_score, rt_critics_score, genre_name\n",
    "            from titles \n",
    "            join genres on titles.imdb_id = genres.title_id\n",
    "            where rt_critics_score > 70 and release_year > 2016 \n",
    "            and imdb_avg_score is not NULL\n",
    "            and genre_name='Horror'\n",
    "            order by imdb_avg_score DESC\n",
    "            limit 20\"\"\")\n",
    "cur.fetchall()"
   ]
  },
  {
   "cell_type": "markdown",
   "metadata": {},
   "source": [
    "### 2- Find rotten tomatoes average critics score for all the netflix movies per between year 2000 and 2019"
   ]
  },
  {
   "cell_type": "code",
   "execution_count": null,
   "metadata": {},
   "outputs": [],
   "source": [
    "cur.execute(\"\"\"SELECT release_year, avg(rt_critics_score)\n",
    "            FROM titles\n",
    "            where release_year between 2000 AND 2019\n",
    "            GROUP BY release_year\n",
    "            ORDER BY release_year\"\"\")\n",
    "cur.fetchall()"
   ]
  },
  {
   "cell_type": "markdown",
   "metadata": {},
   "source": [
    "### 3- Is there a correlation between:\n",
    "- imdb and critics score?\n",
    "- critics score and audience score?"
   ]
  },
  {
   "cell_type": "code",
   "execution_count": null,
   "metadata": {},
   "outputs": [],
   "source": [
    "cur.execute(\"\"\"SELECT imdb_avg_score, rt_critics_score, rt_audience_score\n",
    "            FROM titles\n",
    "            WHERE rt_critics_score is not Null \n",
    "            AND rt_audience_score is not Null\n",
    "            AND imdb_avg_score is not Null\"\"\")\n",
    "res = cur.fetchall()"
   ]
  },
  {
   "cell_type": "code",
   "execution_count": null,
   "metadata": {},
   "outputs": [],
   "source": [
    "imdb_avg_score = [r[0] for r in res]\n",
    "rt_critics_score = [r[1] for r in res]\n",
    "rt_audience_score = [r[2] for r in res]"
   ]
  },
  {
   "cell_type": "code",
   "execution_count": null,
   "metadata": {},
   "outputs": [],
   "source": [
    "plt.scatter(imdb_avg_score, rt_critics_score)\n",
    "plt.xlabel('imdb score')\n",
    "plt.ylabel('rt_critics score')\n",
    "plt.show()"
   ]
  },
  {
   "cell_type": "code",
   "execution_count": null,
   "metadata": {},
   "outputs": [],
   "source": [
    "plt.scatter(rt_critics_score, rt_audience_score)\n",
    "plt.xlabel('rt_critics score')\n",
    "plt.ylabel('rt_audience score')\n",
    "plt.show()"
   ]
  }
 ],
 "metadata": {
  "kernelspec": {
   "display_name": "Python 3",
   "language": "python",
   "name": "python3"
  },
  "language_info": {
   "codemirror_mode": {
    "name": "ipython",
    "version": 3
   },
   "file_extension": ".py",
   "mimetype": "text/x-python",
   "name": "python",
   "nbconvert_exporter": "python",
   "pygments_lexer": "ipython3",
   "version": "3.6.8"
  }
 },
 "nbformat": 4,
 "nbformat_minor": 4
}
